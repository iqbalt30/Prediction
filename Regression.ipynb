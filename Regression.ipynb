{
 "cells": [
  {
   "cell_type": "code",
   "execution_count": 1,
   "metadata": {},
   "outputs": [],
   "source": [
    "import pandas as pd"
   ]
  },
  {
   "cell_type": "code",
   "execution_count": 2,
   "metadata": {},
   "outputs": [
    {
     "name": "stderr",
     "output_type": "stream",
     "text": [
      "/anaconda3/lib/python3.7/site-packages/IPython/core/interactiveshell.py:3049: DtypeWarning: Columns (7) have mixed types. Specify dtype option on import or set low_memory=False.\n",
      "  interactivity=interactivity, compiler=compiler, result=result)\n"
     ]
    }
   ],
   "source": [
    "df = pd.read_csv('train.csv')\n",
    "store = pd.read_csv('store.csv')\n",
    "\n",
    "df_new = df.merge(store, on = ['Store'], how = 'inner')"
   ]
  },
  {
   "cell_type": "code",
   "execution_count": 3,
   "metadata": {},
   "outputs": [],
   "source": [
    "import numpy as np\n",
    "df_new['Date'] = pd.to_datetime(df_new['Date'], infer_datetime_format=True)\n",
    "df_new[\"Month\"] = df_new[\"Date\"].dt.month\n",
    "df_new[\"Quarter\"] = df_new[\"Date\"].dt.quarter\n",
    "df_new[\"Year\"] = df_new[\"Date\"].dt.year\n",
    "df_new[\"Day\"] = df_new[\"Date\"].dt.day\n",
    "df_new[\"Week\"] = df_new[\"Date\"].dt.week\n",
    "df_new[\"Season\"] = np.where(df_new[\"Month\"].isin([3,4,5]),\"Spring\", np.where(df_new[\"Month\"].isin([6,7,8]),\n",
    "                      \"Summer\",\n",
    "                           np.where(df_new[\"Month\"].isin\n",
    "                           ([9,10,11]),\"Fall\",\n",
    "                                np.where(df_new[\"Month\"].isin\n",
    "                                ([12,1,2]),\"Winter\",\"None\"))))"
   ]
  },
  {
   "cell_type": "code",
   "execution_count": 4,
   "metadata": {},
   "outputs": [],
   "source": [
    "df_new['CompetitionDistance'].fillna(df_new['CompetitionDistance'].mode()[0])\n",
    "\n",
    "import seaborn as sns\n",
    "sns.set(style=\"whitegrid\")\n",
    "ax = sns.barplot(x=\"Season\", y=\"Sales\", data=df_new)"
   ]
  },
  {
   "cell_type": "code",
   "execution_count": 5,
   "metadata": {},
   "outputs": [],
   "source": [
    "from sklearn.preprocessing import LabelEncoder\n",
    "from sklearn.preprocessing import OneHotEncoder\n",
    "def create_ohe(df, col):\n",
    "    le = LabelEncoder()\n",
    "    a=le.fit_transform(df_new[col]).reshape(-1,1)\n",
    "    ohe = OneHotEncoder(sparse=False)\n",
    "    column_names = [col+ \"_\"+ str(i) for i in le.classes_]\n",
    "    return(pd.DataFrame(ohe.fit_transform(a),columns =column_names))"
   ]
  },
  {
   "cell_type": "code",
   "execution_count": 6,
   "metadata": {},
   "outputs": [],
   "source": [
    "numeric_columns = [\"Customers\",\"Open\",\"Promo\",\"Promo2\",\n",
    "\"StateHoliday\",\"SchoolHoliday\",\"CompetitionDistance\"]\n",
    "categorical_columns = [\"DayOfWeek\",\"Quarter\",\"Month\",\"Year\",\n",
    "\"StoreType\",\"Assortment\",\"Season\"]\n"
   ]
  },
  {
   "cell_type": "code",
   "execution_count": 7,
   "metadata": {},
   "outputs": [
    {
     "name": "stdout",
     "output_type": "stream",
     "text": [
      "['Customers', 'Open', 'Promo', 'Promo2', 'StateHoliday', 'SchoolHoliday', 'CompetitionDistance']\n"
     ]
    }
   ],
   "source": [
    "print(numeric_columns)"
   ]
  },
  {
   "cell_type": "code",
   "execution_count": 8,
   "metadata": {},
   "outputs": [
    {
     "name": "stderr",
     "output_type": "stream",
     "text": [
      "/anaconda3/lib/python3.7/site-packages/sklearn/preprocessing/_encoders.py:371: FutureWarning: The handling of integer data will change in version 0.22. Currently, the categories are determined based on the range [0, max(values)], while in the future they will be determined based on the unique values.\n",
      "If you want the future behaviour and silence this warning, you can specify \"categories='auto'\".\n",
      "In case you used a LabelEncoder before this OneHotEncoder to convert the categories to integers, then you can now use the OneHotEncoder directly.\n",
      "  warnings.warn(msg, FutureWarning)\n",
      "/anaconda3/lib/python3.7/site-packages/sklearn/preprocessing/_encoders.py:371: FutureWarning: The handling of integer data will change in version 0.22. Currently, the categories are determined based on the range [0, max(values)], while in the future they will be determined based on the unique values.\n",
      "If you want the future behaviour and silence this warning, you can specify \"categories='auto'\".\n",
      "In case you used a LabelEncoder before this OneHotEncoder to convert the categories to integers, then you can now use the OneHotEncoder directly.\n",
      "  warnings.warn(msg, FutureWarning)\n",
      "/anaconda3/lib/python3.7/site-packages/sklearn/preprocessing/_encoders.py:371: FutureWarning: The handling of integer data will change in version 0.22. Currently, the categories are determined based on the range [0, max(values)], while in the future they will be determined based on the unique values.\n",
      "If you want the future behaviour and silence this warning, you can specify \"categories='auto'\".\n",
      "In case you used a LabelEncoder before this OneHotEncoder to convert the categories to integers, then you can now use the OneHotEncoder directly.\n",
      "  warnings.warn(msg, FutureWarning)\n",
      "/anaconda3/lib/python3.7/site-packages/sklearn/preprocessing/_encoders.py:371: FutureWarning: The handling of integer data will change in version 0.22. Currently, the categories are determined based on the range [0, max(values)], while in the future they will be determined based on the unique values.\n",
      "If you want the future behaviour and silence this warning, you can specify \"categories='auto'\".\n",
      "In case you used a LabelEncoder before this OneHotEncoder to convert the categories to integers, then you can now use the OneHotEncoder directly.\n",
      "  warnings.warn(msg, FutureWarning)\n",
      "/anaconda3/lib/python3.7/site-packages/sklearn/preprocessing/_encoders.py:371: FutureWarning: The handling of integer data will change in version 0.22. Currently, the categories are determined based on the range [0, max(values)], while in the future they will be determined based on the unique values.\n",
      "If you want the future behaviour and silence this warning, you can specify \"categories='auto'\".\n",
      "In case you used a LabelEncoder before this OneHotEncoder to convert the categories to integers, then you can now use the OneHotEncoder directly.\n",
      "  warnings.warn(msg, FutureWarning)\n",
      "/anaconda3/lib/python3.7/site-packages/sklearn/preprocessing/_encoders.py:371: FutureWarning: The handling of integer data will change in version 0.22. Currently, the categories are determined based on the range [0, max(values)], while in the future they will be determined based on the unique values.\n",
      "If you want the future behaviour and silence this warning, you can specify \"categories='auto'\".\n",
      "In case you used a LabelEncoder before this OneHotEncoder to convert the categories to integers, then you can now use the OneHotEncoder directly.\n",
      "  warnings.warn(msg, FutureWarning)\n",
      "/anaconda3/lib/python3.7/site-packages/sklearn/preprocessing/_encoders.py:371: FutureWarning: The handling of integer data will change in version 0.22. Currently, the categories are determined based on the range [0, max(values)], while in the future they will be determined based on the unique values.\n",
      "If you want the future behaviour and silence this warning, you can specify \"categories='auto'\".\n",
      "In case you used a LabelEncoder before this OneHotEncoder to convert the categories to integers, then you can now use the OneHotEncoder directly.\n",
      "  warnings.warn(msg, FutureWarning)\n"
     ]
    }
   ],
   "source": [
    "temp = df_new[numeric_columns]\n",
    "for column in categorical_columns:\n",
    "    temp_df = create_ohe(df_new,column)\n",
    "    temp = pd.concat([temp,temp_df],axis=1)"
   ]
  },
  {
   "cell_type": "code",
   "execution_count": null,
   "metadata": {},
   "outputs": [
    {
     "name": "stdout",
     "output_type": "stream",
     "text": [
      "Index(['StateHoliday'], dtype='object')\n"
     ]
    }
   ],
   "source": [
    "print(temp.columns[temp.dtypes==\"object\"])"
   ]
  },
  {
   "cell_type": "code",
   "execution_count": null,
   "metadata": {},
   "outputs": [
    {
     "data": {
      "text/plain": [
       "array([dtype('int64'), dtype('float64')], dtype=object)"
      ]
     },
     "execution_count": 10,
     "metadata": {},
     "output_type": "execute_result"
    }
   ],
   "source": [
    "temp[\"StateHoliday\"]= np.where(temp[\"StateHoliday\"]== '0',0,1)\n",
    "temp.dtypes.unique()"
   ]
  },
  {
   "cell_type": "code",
   "execution_count": null,
   "metadata": {},
   "outputs": [
    {
     "data": {
      "text/plain": [
       "Customers              False\n",
       "Open                   False\n",
       "Promo                  False\n",
       "Promo2                 False\n",
       "StateHoliday           False\n",
       "SchoolHoliday          False\n",
       "CompetitionDistance    False\n",
       "DayOfWeek_1            False\n",
       "DayOfWeek_2            False\n",
       "DayOfWeek_3            False\n",
       "DayOfWeek_4            False\n",
       "DayOfWeek_5            False\n",
       "DayOfWeek_6            False\n",
       "DayOfWeek_7            False\n",
       "Quarter_1              False\n",
       "Quarter_2              False\n",
       "Quarter_3              False\n",
       "Quarter_4              False\n",
       "Month_1                False\n",
       "Month_2                False\n",
       "Month_3                False\n",
       "Month_4                False\n",
       "Month_5                False\n",
       "Month_6                False\n",
       "Month_7                False\n",
       "Month_8                False\n",
       "Month_9                False\n",
       "Month_10               False\n",
       "Month_11               False\n",
       "Month_12               False\n",
       "Year_2013              False\n",
       "Year_2014              False\n",
       "Year_2015              False\n",
       "StoreType_a            False\n",
       "StoreType_b            False\n",
       "StoreType_c            False\n",
       "StoreType_d            False\n",
       "Assortment_a           False\n",
       "Assortment_b           False\n",
       "Assortment_c           False\n",
       "Season_Fall            False\n",
       "Season_Spring          False\n",
       "Season_Summer          False\n",
       "Season_Winter          False\n",
       "dtype: bool"
      ]
     },
     "execution_count": 11,
     "metadata": {},
     "output_type": "execute_result"
    }
   ],
   "source": [
    "temp[['CompetitionDistance']] = temp[['CompetitionDistance']].fillna(23)\n",
    "temp.isnull().any()"
   ]
  },
  {
   "cell_type": "code",
   "execution_count": null,
   "metadata": {},
   "outputs": [],
   "source": [
    "from sklearn.model_selection import train_test_split\n",
    "target = df_new[[\"Sales\"]]\n",
    "x_train, x_test, y_train, y_test = train_test_split(temp,\n",
    "target,test_size=0.2,random_state=2018)"
   ]
  },
  {
   "cell_type": "code",
   "execution_count": null,
   "metadata": {},
   "outputs": [],
   "source": [
    "x_train, x_val, y_train, y_val = train_test_split(x_train,\n",
    "y_train,test_size=0.1,random_state=2018)"
   ]
  },
  {
   "cell_type": "code",
   "execution_count": null,
   "metadata": {},
   "outputs": [
    {
     "name": "stdout",
     "output_type": "stream",
     "text": [
      "Shape of x_train: (732390, 44)\n",
      "Shape of x_val: (81377, 44)\n",
      "Shape of x_test: (203442, 44)\n",
      "Shape of y_train: (732390, 1)\n",
      "Shape of y_val: (81377, 1)\n",
      "Shape of y_test: (203442, 1)\n"
     ]
    }
   ],
   "source": [
    "print(\"Shape of x_train:\",x_train.shape)\n",
    "print(\"Shape of x_val:\",x_val.shape)\n",
    "print(\"Shape of x_test:\",x_test.shape)\n",
    "print(\"Shape of y_train:\",y_train.shape)\n",
    "print(\"Shape of y_val:\",y_val.shape)\n",
    "print(\"Shape of y_test:\",y_test.shape)"
   ]
  },
  {
   "cell_type": "code",
   "execution_count": null,
   "metadata": {},
   "outputs": [
    {
     "name": "stderr",
     "output_type": "stream",
     "text": [
      "Using TensorFlow backend.\n"
     ]
    },
    {
     "name": "stdout",
     "output_type": "stream",
     "text": [
      "WARNING:tensorflow:From /anaconda3/lib/python3.7/site-packages/tensorflow/python/framework/op_def_library.py:263: colocate_with (from tensorflow.python.framework.ops) is deprecated and will be removed in a future version.\n",
      "Instructions for updating:\n",
      "Colocations handled automatically by placer.\n"
     ]
    }
   ],
   "source": [
    "from keras.models import Sequential\n",
    "from keras.layers import Dense, Dropout\n",
    "model = Sequential()\n",
    "model.add(Dense(150,input_dim = 44,activation=\"relu\"))\n",
    "model.add(Dense(1,activation = \"linear\"))"
   ]
  },
  {
   "cell_type": "code",
   "execution_count": null,
   "metadata": {},
   "outputs": [
    {
     "data": {
      "text/html": [
       "<div>\n",
       "<style scoped>\n",
       "    .dataframe tbody tr th:only-of-type {\n",
       "        vertical-align: middle;\n",
       "    }\n",
       "\n",
       "    .dataframe tbody tr th {\n",
       "        vertical-align: top;\n",
       "    }\n",
       "\n",
       "    .dataframe thead th {\n",
       "        text-align: right;\n",
       "    }\n",
       "</style>\n",
       "<table border=\"1\" class=\"dataframe\">\n",
       "  <thead>\n",
       "    <tr style=\"text-align: right;\">\n",
       "      <th></th>\n",
       "      <th>Customers</th>\n",
       "      <th>Open</th>\n",
       "      <th>Promo</th>\n",
       "      <th>Promo2</th>\n",
       "      <th>StateHoliday</th>\n",
       "      <th>SchoolHoliday</th>\n",
       "      <th>CompetitionDistance</th>\n",
       "      <th>DayOfWeek_1</th>\n",
       "      <th>DayOfWeek_2</th>\n",
       "      <th>DayOfWeek_3</th>\n",
       "      <th>...</th>\n",
       "      <th>StoreType_b</th>\n",
       "      <th>StoreType_c</th>\n",
       "      <th>StoreType_d</th>\n",
       "      <th>Assortment_a</th>\n",
       "      <th>Assortment_b</th>\n",
       "      <th>Assortment_c</th>\n",
       "      <th>Season_Fall</th>\n",
       "      <th>Season_Spring</th>\n",
       "      <th>Season_Summer</th>\n",
       "      <th>Season_Winter</th>\n",
       "    </tr>\n",
       "  </thead>\n",
       "  <tbody>\n",
       "    <tr>\n",
       "      <th>157696</th>\n",
       "      <td>741</td>\n",
       "      <td>1</td>\n",
       "      <td>1</td>\n",
       "      <td>0</td>\n",
       "      <td>0</td>\n",
       "      <td>0</td>\n",
       "      <td>4130.0</td>\n",
       "      <td>0.0</td>\n",
       "      <td>0.0</td>\n",
       "      <td>1.0</td>\n",
       "      <td>...</td>\n",
       "      <td>0.0</td>\n",
       "      <td>1.0</td>\n",
       "      <td>0.0</td>\n",
       "      <td>1.0</td>\n",
       "      <td>0.0</td>\n",
       "      <td>0.0</td>\n",
       "      <td>0.0</td>\n",
       "      <td>0.0</td>\n",
       "      <td>1.0</td>\n",
       "      <td>0.0</td>\n",
       "    </tr>\n",
       "    <tr>\n",
       "      <th>517215</th>\n",
       "      <td>785</td>\n",
       "      <td>1</td>\n",
       "      <td>1</td>\n",
       "      <td>1</td>\n",
       "      <td>0</td>\n",
       "      <td>0</td>\n",
       "      <td>1010.0</td>\n",
       "      <td>0.0</td>\n",
       "      <td>1.0</td>\n",
       "      <td>0.0</td>\n",
       "      <td>...</td>\n",
       "      <td>0.0</td>\n",
       "      <td>1.0</td>\n",
       "      <td>0.0</td>\n",
       "      <td>1.0</td>\n",
       "      <td>0.0</td>\n",
       "      <td>0.0</td>\n",
       "      <td>0.0</td>\n",
       "      <td>0.0</td>\n",
       "      <td>1.0</td>\n",
       "      <td>0.0</td>\n",
       "    </tr>\n",
       "    <tr>\n",
       "      <th>799211</th>\n",
       "      <td>1080</td>\n",
       "      <td>1</td>\n",
       "      <td>1</td>\n",
       "      <td>0</td>\n",
       "      <td>1</td>\n",
       "      <td>0</td>\n",
       "      <td>29190.0</td>\n",
       "      <td>0.0</td>\n",
       "      <td>0.0</td>\n",
       "      <td>1.0</td>\n",
       "      <td>...</td>\n",
       "      <td>0.0</td>\n",
       "      <td>0.0</td>\n",
       "      <td>0.0</td>\n",
       "      <td>0.0</td>\n",
       "      <td>0.0</td>\n",
       "      <td>1.0</td>\n",
       "      <td>1.0</td>\n",
       "      <td>0.0</td>\n",
       "      <td>0.0</td>\n",
       "      <td>0.0</td>\n",
       "    </tr>\n",
       "    <tr>\n",
       "      <th>592833</th>\n",
       "      <td>1175</td>\n",
       "      <td>1</td>\n",
       "      <td>1</td>\n",
       "      <td>0</td>\n",
       "      <td>0</td>\n",
       "      <td>0</td>\n",
       "      <td>200.0</td>\n",
       "      <td>0.0</td>\n",
       "      <td>0.0</td>\n",
       "      <td>0.0</td>\n",
       "      <td>...</td>\n",
       "      <td>0.0</td>\n",
       "      <td>0.0</td>\n",
       "      <td>0.0</td>\n",
       "      <td>1.0</td>\n",
       "      <td>0.0</td>\n",
       "      <td>0.0</td>\n",
       "      <td>0.0</td>\n",
       "      <td>0.0</td>\n",
       "      <td>0.0</td>\n",
       "      <td>1.0</td>\n",
       "    </tr>\n",
       "    <tr>\n",
       "      <th>768559</th>\n",
       "      <td>524</td>\n",
       "      <td>1</td>\n",
       "      <td>0</td>\n",
       "      <td>1</td>\n",
       "      <td>0</td>\n",
       "      <td>1</td>\n",
       "      <td>2030.0</td>\n",
       "      <td>0.0</td>\n",
       "      <td>1.0</td>\n",
       "      <td>0.0</td>\n",
       "      <td>...</td>\n",
       "      <td>0.0</td>\n",
       "      <td>0.0</td>\n",
       "      <td>0.0</td>\n",
       "      <td>1.0</td>\n",
       "      <td>0.0</td>\n",
       "      <td>0.0</td>\n",
       "      <td>0.0</td>\n",
       "      <td>0.0</td>\n",
       "      <td>0.0</td>\n",
       "      <td>1.0</td>\n",
       "    </tr>\n",
       "  </tbody>\n",
       "</table>\n",
       "<p>5 rows × 44 columns</p>\n",
       "</div>"
      ],
      "text/plain": [
       "        Customers  Open  Promo  Promo2  StateHoliday  SchoolHoliday  \\\n",
       "157696        741     1      1       0             0              0   \n",
       "517215        785     1      1       1             0              0   \n",
       "799211       1080     1      1       0             1              0   \n",
       "592833       1175     1      1       0             0              0   \n",
       "768559        524     1      0       1             0              1   \n",
       "\n",
       "        CompetitionDistance  DayOfWeek_1  DayOfWeek_2  DayOfWeek_3  ...  \\\n",
       "157696               4130.0          0.0          0.0          1.0  ...   \n",
       "517215               1010.0          0.0          1.0          0.0  ...   \n",
       "799211              29190.0          0.0          0.0          1.0  ...   \n",
       "592833                200.0          0.0          0.0          0.0  ...   \n",
       "768559               2030.0          0.0          1.0          0.0  ...   \n",
       "\n",
       "        StoreType_b  StoreType_c  StoreType_d  Assortment_a  Assortment_b  \\\n",
       "157696          0.0          1.0          0.0           1.0           0.0   \n",
       "517215          0.0          1.0          0.0           1.0           0.0   \n",
       "799211          0.0          0.0          0.0           0.0           0.0   \n",
       "592833          0.0          0.0          0.0           1.0           0.0   \n",
       "768559          0.0          0.0          0.0           1.0           0.0   \n",
       "\n",
       "        Assortment_c  Season_Fall  Season_Spring  Season_Summer  Season_Winter  \n",
       "157696           0.0          0.0            0.0            1.0            0.0  \n",
       "517215           0.0          0.0            0.0            1.0            0.0  \n",
       "799211           1.0          1.0            0.0            0.0            0.0  \n",
       "592833           0.0          0.0            0.0            0.0            1.0  \n",
       "768559           0.0          0.0            0.0            0.0            1.0  \n",
       "\n",
       "[5 rows x 44 columns]"
      ]
     },
     "execution_count": 16,
     "metadata": {},
     "output_type": "execute_result"
    }
   ],
   "source": [
    "x_train.head(5)"
   ]
  },
  {
   "cell_type": "code",
   "execution_count": null,
   "metadata": {},
   "outputs": [],
   "source": [
    "model.compile(optimizer='rmsprop',loss=\"mean_absolute_error\",\n",
    "metrics=[\"mean_absolute_error\"])"
   ]
  },
  {
   "cell_type": "code",
   "execution_count": null,
   "metadata": {},
   "outputs": [
    {
     "name": "stdout",
     "output_type": "stream",
     "text": [
      "MAE for Test Data: Sales    2883.587604\n",
      "dtype: float64\n"
     ]
    }
   ],
   "source": [
    "print(\"MAE for Test Data:\",abs(y_test - y_train.mean()).mean())"
   ]
  },
  {
   "cell_type": "code",
   "execution_count": null,
   "metadata": {},
   "outputs": [
    {
     "name": "stdout",
     "output_type": "stream",
     "text": [
      "WARNING:tensorflow:From /anaconda3/lib/python3.7/site-packages/tensorflow/python/ops/math_ops.py:3066: to_int32 (from tensorflow.python.ops.math_ops) is deprecated and will be removed in a future version.\n",
      "Instructions for updating:\n",
      "Use tf.cast instead.\n",
      "Train on 732390 samples, validate on 81377 samples\n",
      "Epoch 1/10\n",
      "732390/732390 [==============================] - 17s 23us/step - loss: 972.9450 - mean_absolute_error: 972.9450 - val_loss: 864.4434 - val_mean_absolute_error: 864.4434\n",
      "Epoch 2/10\n",
      "732390/732390 [==============================] - 14s 19us/step - loss: 809.6086 - mean_absolute_error: 809.6086 - val_loss: 774.1692 - val_mean_absolute_error: 774.1692\n",
      "Epoch 3/10\n",
      "732390/732390 [==============================] - 13s 18us/step - loss: 769.1626 - mean_absolute_error: 769.1626 - val_loss: 868.6705 - val_mean_absolute_error: 868.6705\n",
      "Epoch 4/10\n",
      "732390/732390 [==============================] - 13s 18us/step - loss: 755.1440 - mean_absolute_error: 755.1440 - val_loss: 768.9005 - val_mean_absolute_error: 768.9005\n",
      "Epoch 5/10\n",
      "732390/732390 [==============================] - 13s 18us/step - loss: 745.4215 - mean_absolute_error: 745.4215 - val_loss: 717.4842 - val_mean_absolute_error: 717.4842\n",
      "Epoch 6/10\n",
      "323456/732390 [============>.................] - ETA: 6s - loss: 741.6396 - mean_absolute_error: 741.6396"
     ]
    }
   ],
   "source": [
    "model.fit(x_train.values,y_train.values, validation_data=\n",
    "(x_val,y_val),epochs=10,batch_size=64)"
   ]
  },
  {
   "cell_type": "code",
   "execution_count": null,
   "metadata": {},
   "outputs": [],
   "source": [
    "result = model.evaluate(x_test.values,y_test.values)\n",
    "for i in range(len(model.metrics_names)):\n",
    "    print(\"Metric \",model.metrics_names[i],\":\",str(round(result\n",
    "    [i],2)))"
   ]
  },
  {
   "cell_type": "code",
   "execution_count": null,
   "metadata": {},
   "outputs": [],
   "source": [
    "model = Sequential()\n",
    "model.add(Dense(150,input_dim = 44,activation=\"relu\"))\n",
    "model.add(Dense(150,activation=\"relu\"))\n",
    "model.add(Dense(150,activation=\"relu\"))\n",
    "model.add(Dense(1,activation = \"linear\"))\n",
    "model.compile(optimizer='adam',loss=\"mean_squared_error\",metrics=[\"mean_absolute_error\"])\n",
    "history = model.fit(x_train,y_train, validation_data=(x_val,\n",
    "y_val),epochs=10,batch_size=64)"
   ]
  },
  {
   "cell_type": "code",
   "execution_count": null,
   "metadata": {},
   "outputs": [],
   "source": [
    "result = model.evaluate(x_test,y_test)\n",
    "for i in range(len(model.metrics_names)):\n",
    "    print(\"Metric \",model.metrics_names[i],\":\",str(round(result\n",
    "    [i],2)))"
   ]
  },
  {
   "cell_type": "code",
   "execution_count": null,
   "metadata": {},
   "outputs": [],
   "source": [
    "model = Sequential()\n",
    "model.add(Dense(150,input_dim = 44,activation=\"relu\"))\n",
    "model.add(Dense(150,activation=\"relu\"))\n",
    "model.add(Dense(150,activation=\"relu\"))\n",
    "model.add(Dense(150,activation=\"relu\"))\n",
    "model.add(Dense(150,activation=\"relu\"))\n",
    "model.add(Dense(1,activation = \"linear\"))\n",
    "model.compile(optimizer='adam',loss=\"mean_squared_error\",metrics=[\"mean_absolute_error\"])\n",
    "model.fit(x_train,y_train, validation_data=(x_val,y_val),\n",
    "epochs=15,batch_size=64)\n",
    "result = model.evaluate(x_test,y_test)\n",
    "for i in range(len(model.metrics_names)):\n",
    "    print(\"Metric \",model.metrics_names[i],\":\",str(round(result\n",
    "    [i],2)))"
   ]
  },
  {
   "cell_type": "code",
   "execution_count": null,
   "metadata": {},
   "outputs": [],
   "source": [
    "model = Sequential()\n",
    "model.add(Dense(350,input_dim = 44,activation=\"relu\"))\n",
    "model.add(Dense(350,activation=\"relu\"))\n",
    "model.add(Dense(1,activation = \"linear\"))\n",
    "model.compile(optimizer='adam',loss=\"mean_squared_error\",metrics=[\"mean_absolute_error\"])\n",
    "model.fit(x_train,y_train, validation_data=(x_val,y_val),epochs=15,batch_size=64)\n",
    "result = model.evaluate(x_test,y_test)\n",
    "for i in range(len(model.metrics_names)):\n",
    "    print(\"Metric \",model.metrics_names[i],\":\",\n",
    "    str(round(result[i],2)))"
   ]
  },
  {
   "cell_type": "code",
   "execution_count": null,
   "metadata": {},
   "outputs": [],
   "source": [
    "from keras.callbacks import History\n",
    "history = History()\n",
    "model = Sequential()\n",
    "model.add(Dense(350,input_dim = 44,activation=\"relu\"))\n",
    "model.add(Dense(350,activation=\"relu\"))\n",
    "model.add(Dense(350,activation=\"relu\"))\n",
    "model.add(Dense(350,activation=\"relu\"))\n",
    "model.add(Dense(350,activation=\"relu\"))\n",
    "model.add(Dense(1,activation = \"linear\"))\n",
    "model.compile(optimizer='adam',loss=\"mean_squared_error\",metrics=[\"mean_absolute_error\"])\n",
    "model.fit(x_train,y_train, validation_data=(x_val,y_val),\n",
    "epochs=15,batch_size=64,callbacks=[history])\n",
    "result = model.evaluate(x_test,y_test)\n",
    "for i in range(len(model.metrics_names)):\n",
    "    print(\"Metric \",model.metrics_names[i],\":\",str(round(result\n",
    "    [i],2)))"
   ]
  },
  {
   "cell_type": "code",
   "execution_count": null,
   "metadata": {},
   "outputs": [],
   "source": [
    "import matplotlib.pyplot as plt\n",
    "plt.plot(history.history['loss'])\n",
    "plt.plot(history.history['val_loss'])\n",
    "plt.title(\"Model's Training & Validation loss across epochs\")\n",
    "plt.ylabel('Loss')\n",
    "plt.xlabel('Epochs')\n",
    "plt.legend(['Train', 'Validation'], loc='upper right')\n",
    "plt.show()"
   ]
  },
  {
   "cell_type": "code",
   "execution_count": null,
   "metadata": {},
   "outputs": [],
   "source": []
  }
 ],
 "metadata": {
  "kernelspec": {
   "display_name": "Python 3",
   "language": "python",
   "name": "python3"
  },
  "language_info": {
   "codemirror_mode": {
    "name": "ipython",
    "version": 3
   },
   "file_extension": ".py",
   "mimetype": "text/x-python",
   "name": "python",
   "nbconvert_exporter": "python",
   "pygments_lexer": "ipython3",
   "version": "3.7.3"
  }
 },
 "nbformat": 4,
 "nbformat_minor": 2
}
